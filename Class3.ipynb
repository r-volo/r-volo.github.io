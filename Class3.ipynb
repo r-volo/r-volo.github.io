{
  "nbformat": 4,
  "nbformat_minor": 0,
  "metadata": {
    "colab": {
      "provenance": [],
      "collapsed_sections": [],
      "authorship_tag": "ABX9TyOcwqYnQYti+kbn1uKdJSej",
      "include_colab_link": true
    },
    "kernelspec": {
      "name": "python3",
      "display_name": "Python 3"
    },
    "language_info": {
      "name": "python"
    }
  },
  "cells": [
    {
      "cell_type": "markdown",
      "metadata": {
        "id": "view-in-github",
        "colab_type": "text"
      },
      "source": [
        "<a href=\"https://colab.research.google.com/github/r-volo/r-volo.github.io/blob/main/Class3.ipynb\" target=\"_parent\"><img src=\"https://colab.research.google.com/assets/colab-badge.svg\" alt=\"Open In Colab\"/></a>"
      ]
    },
    {
      "cell_type": "markdown",
      "source": [
        "Arrays, vectors, lists\n",
        "cell navigation:\n",
        "ctrl+enter - runs the cell\n",
        "Alt+enter - runs and adds new one below\n",
        "shift+enter - runs and steps into the nect cell"
      ],
      "metadata": {
        "id": "bY4N7kh1r8j8"
      }
    },
    {
      "cell_type": "code",
      "source": [
        "a = [2,3,4,'fdfd',[5,6]]"
      ],
      "metadata": {
        "id": "nj-OWSgLrL-x"
      },
      "execution_count": 8,
      "outputs": []
    },
    {
      "cell_type": "code",
      "execution_count": 9,
      "metadata": {
        "id": "nmzRk1hFqRO-"
      },
      "outputs": [],
      "source": [
        "b={'alpha':1, 'beta':27, 'gamma':[0,1,2], 'delta':'67', 98:45}"
      ]
    },
    {
      "cell_type": "code",
      "source": [
        "b['alpha']"
      ],
      "metadata": {
        "colab": {
          "base_uri": "https://localhost:8080/"
        },
        "id": "mQv8gCdAsxFR",
        "outputId": "4fa8fe09-8388-4185-d6f0-dc01a1f8fba0"
      },
      "execution_count": 10,
      "outputs": [
        {
          "output_type": "execute_result",
          "data": {
            "text/plain": [
              "1"
            ]
          },
          "metadata": {},
          "execution_count": 10
        }
      ]
    },
    {
      "cell_type": "code",
      "source": [
        "a[2]"
      ],
      "metadata": {
        "colab": {
          "base_uri": "https://localhost:8080/"
        },
        "id": "bx53KLbQtQx4",
        "outputId": "87f9d3f8-efb5-4ea0-fd19-1af3ccf0d1d0"
      },
      "execution_count": 13,
      "outputs": [
        {
          "output_type": "execute_result",
          "data": {
            "text/plain": [
              "4"
            ]
          },
          "metadata": {},
          "execution_count": 13
        }
      ]
    }
  ]
}